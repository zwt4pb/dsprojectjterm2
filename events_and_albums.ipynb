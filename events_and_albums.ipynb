{
  "nbformat": 4,
  "nbformat_minor": 0,
  "metadata": {
    "colab": {
      "provenance": [],
      "authorship_tag": "ABX9TyOn63vfEcldiXaYuWLAWy0i",
      "include_colab_link": true
    },
    "kernelspec": {
      "name": "python3",
      "display_name": "Python 3"
    },
    "language_info": {
      "name": "python"
    }
  },
  "cells": [
    {
      "cell_type": "markdown",
      "metadata": {
        "id": "view-in-github",
        "colab_type": "text"
      },
      "source": [
        "<a href=\"https://colab.research.google.com/github/zwt4pb/dsprojectjterm2/blob/main/events_and_albums.ipynb\" target=\"_parent\"><img src=\"https://colab.research.google.com/assets/colab-badge.svg\" alt=\"Open In Colab\"/></a>"
      ]
    },
    {
      "cell_type": "code",
      "execution_count": 18,
      "metadata": {
        "colab": {
          "base_uri": "https://localhost:8080/",
          "height": 617
        },
        "id": "Y9Y8YXoYnV65",
        "outputId": "ba98aebd-fe6f-4e82-f3b0-5c2ce61c1e7c"
      },
      "outputs": [
        {
          "output_type": "display_data",
          "data": {
            "text/html": [
              "<html>\n",
              "<head><meta charset=\"utf-8\" /></head>\n",
              "<body>\n",
              "    <div>            <script src=\"https://cdnjs.cloudflare.com/ajax/libs/mathjax/2.7.5/MathJax.js?config=TeX-AMS-MML_SVG\"></script><script type=\"text/javascript\">if (window.MathJax && window.MathJax.Hub && window.MathJax.Hub.Config) {window.MathJax.Hub.Config({SVG: {font: \"STIX-Web\"}});}</script>                <script type=\"text/javascript\">window.PlotlyConfig = {MathJaxConfig: 'local'};</script>\n",
              "        <script charset=\"utf-8\" src=\"https://cdn.plot.ly/plotly-2.35.2.min.js\"></script>                <div id=\"a8dbd89a-4c08-4f5f-888b-8260b160d8a5\" class=\"plotly-graph-div\" style=\"height:600px; width:100%;\"></div>            <script type=\"text/javascript\">                                    window.PLOTLYENV=window.PLOTLYENV || {};                                    if (document.getElementById(\"a8dbd89a-4c08-4f5f-888b-8260b160d8a5\")) {                    Plotly.newPlot(                        \"a8dbd89a-4c08-4f5f-888b-8260b160d8a5\",                        [{\"hovertemplate\":\"\\u003cb\\u003e%{hovertext}\\u003c\\u002fb\\u003e\\u003cbr\\u003e\\u003cbr\\u003eType=Album\\u003cbr\\u003eDate=%{x}\\u003cbr\\u003eArtist=%{y}\\u003cextra\\u003e\\u003c\\u002fextra\\u003e\",\"hovertext\":[\"The Fame\",\"Born This Way\",\"ARTPOP\",\"Joanne\",\"Chromatica\",\"Cheek to Cheek\",\"Love for Sale\",\"Harlequin\",\"My World 2.0\",\"Believe\",\"Under the Mistletoe\",\"Purpose\",\"Changes\",\"Justice\",\"Trilogy\",\"Kiss Land\",\"Beauty Behind the Madness\",\"Starboy\",\"After Hours\",\"Dawn FM\"],\"legendgroup\":\"Album\",\"marker\":{\"color\":\"#636efa\",\"symbol\":\"circle\",\"opacity\":0.8,\"size\":10},\"mode\":\"markers\",\"name\":\"Album\",\"orientation\":\"v\",\"showlegend\":true,\"x\":[\"2008-08-19T00:00:00\",\"2011-05-23T00:00:00\",\"2013-11-06T00:00:00\",\"2016-10-21T00:00:00\",\"2020-05-29T00:00:00\",\"2014-09-19T00:00:00\",\"2021-10-01T00:00:00\",\"2024-09-27T00:00:00\",\"2010-03-19T00:00:00\",\"2012-06-15T00:00:00\",\"2011-11-01T00:00:00\",\"2015-11-13T00:00:00\",\"2020-02-14T00:00:00\",\"2021-03-19T00:00:00\",\"2012-11-13T00:00:00\",\"2013-09-10T00:00:00\",\"2015-08-28T00:00:00\",\"2016-11-25T00:00:00\",\"2020-03-20T00:00:00\",\"2022-01-07T00:00:00\"],\"xaxis\":\"x\",\"y\":[\"Lady Gaga\",\"Lady Gaga\",\"Lady Gaga\",\"Lady Gaga\",\"Lady Gaga\",\"Lady Gaga\",\"Lady Gaga\",\"Lady Gaga\",\"Justin Bieber\",\"Justin Bieber\",\"Justin Bieber\",\"Justin Bieber\",\"Justin Bieber\",\"Justin Bieber\",\"The Weeknd\",\"The Weeknd\",\"The Weeknd\",\"The Weeknd\",\"The Weeknd\",\"The Weeknd\"],\"yaxis\":\"y\",\"type\":\"scatter\"},{\"hovertemplate\":\"\\u003cb\\u003e%{hovertext}\\u003c\\u002fb\\u003e\\u003cbr\\u003e\\u003cbr\\u003eType=Event\\u003cbr\\u003eDate=%{x}\\u003cbr\\u003eArtist=%{y}\\u003cextra\\u003e\\u003c\\u002fextra\\u003e\",\"hovertext\":[\"Wore the iconic 'meat dress' at MTV VMAs\",\"Launched Born This Way Foundation\",\"Cancelled Born This Way Ball tour due to hip surgery\",\"Performed national anthem at Super Bowl 50\",\"Revealed fibromyalgia diagnosis, raising awareness\",\"Starred in 'A Star Is Born' with Bradley Cooper\",\"Partnered with WHO for One World concert during COVID-19\",\"Starred in 'House of Gucci'\",\"Starred in 'Joker: Folie à Deux'\",\"Tony Bennett Public Alzheimers Diagnosis\",\"Relationship with Selena Gomez became public\",\"Arrested for DUI in Miami\",\"Canceled Purpose World Tour due to depression and anxiety\",\"Social media hiatus after backlash over relationship with Sofia Richie\",\"Married Hailey Baldwin in courthouse ceremony\",\"Opened up about Lyme disease diagnosis\",\"Took a break from touring due to Ramsay Hunt syndrome\",\"Dated Selena Gomez briefly\",\"Breakup with Selena Gomez\",\"Super Bowl LV halftime performance\",\"Canceled concert mid-performance due to vocal issues\",\"Transitioned to real name 'Abel Tesfaye'\",\"Hair transformation: Cut off dreadlocks\",\"Starred in HBO series 'The Idol'\",\"Recognized by Guinness as most popular artist globally\"],\"legendgroup\":\"Event\",\"marker\":{\"color\":\"#EF553B\",\"symbol\":\"circle\",\"opacity\":0.8,\"size\":10},\"mode\":\"markers\",\"name\":\"Event\",\"orientation\":\"v\",\"showlegend\":true,\"x\":[\"2009-09-13T00:00:00\",\"2011-11-13T00:00:00\",\"2013-02-12T00:00:00\",\"2016-02-07T00:00:00\",\"2017-09-12T00:00:00\",\"2018-10-05T00:00:00\",\"2020-04-18T00:00:00\",\"2021-11-24T00:00:00\",\"2024-10-01T00:00:00\",\"2021-02-01T00:00:00\",\"2011-01-01T00:00:00\",\"2014-01-23T00:00:00\",\"2017-07-24T00:00:00\",\"2016-08-15T00:00:00\",\"2018-09-13T00:00:00\",\"2020-01-08T00:00:00\",\"2023-06-01T00:00:00\",\"2017-01-01T00:00:00\",\"2017-10-01T00:00:00\",\"2021-02-07T00:00:00\",\"2022-09-03T00:00:00\",\"2023-05-16T00:00:00\",\"2016-09-20T00:00:00\",\"2022-06-01T00:00:00\",\"2023-03-27T00:00:00\"],\"xaxis\":\"x\",\"y\":[\"Lady Gaga\",\"Lady Gaga\",\"Lady Gaga\",\"Lady Gaga\",\"Lady Gaga\",\"Lady Gaga\",\"Lady Gaga\",\"Lady Gaga\",\"Lady Gaga\",\"Lady Gaga\",\"Justin Bieber\",\"Justin Bieber\",\"Justin Bieber\",\"Justin Bieber\",\"Justin Bieber\",\"Justin Bieber\",\"Justin Bieber\",\"The Weeknd\",\"The Weeknd\",\"The Weeknd\",\"The Weeknd\",\"The Weeknd\",\"The Weeknd\",\"The Weeknd\",\"The Weeknd\"],\"yaxis\":\"y\",\"type\":\"scatter\"}],                        {\"template\":{\"data\":{\"histogram2dcontour\":[{\"type\":\"histogram2dcontour\",\"colorbar\":{\"outlinewidth\":0,\"ticks\":\"\"},\"colorscale\":[[0.0,\"#0d0887\"],[0.1111111111111111,\"#46039f\"],[0.2222222222222222,\"#7201a8\"],[0.3333333333333333,\"#9c179e\"],[0.4444444444444444,\"#bd3786\"],[0.5555555555555556,\"#d8576b\"],[0.6666666666666666,\"#ed7953\"],[0.7777777777777778,\"#fb9f3a\"],[0.8888888888888888,\"#fdca26\"],[1.0,\"#f0f921\"]]}],\"choropleth\":[{\"type\":\"choropleth\",\"colorbar\":{\"outlinewidth\":0,\"ticks\":\"\"}}],\"histogram2d\":[{\"type\":\"histogram2d\",\"colorbar\":{\"outlinewidth\":0,\"ticks\":\"\"},\"colorscale\":[[0.0,\"#0d0887\"],[0.1111111111111111,\"#46039f\"],[0.2222222222222222,\"#7201a8\"],[0.3333333333333333,\"#9c179e\"],[0.4444444444444444,\"#bd3786\"],[0.5555555555555556,\"#d8576b\"],[0.6666666666666666,\"#ed7953\"],[0.7777777777777778,\"#fb9f3a\"],[0.8888888888888888,\"#fdca26\"],[1.0,\"#f0f921\"]]}],\"heatmap\":[{\"type\":\"heatmap\",\"colorbar\":{\"outlinewidth\":0,\"ticks\":\"\"},\"colorscale\":[[0.0,\"#0d0887\"],[0.1111111111111111,\"#46039f\"],[0.2222222222222222,\"#7201a8\"],[0.3333333333333333,\"#9c179e\"],[0.4444444444444444,\"#bd3786\"],[0.5555555555555556,\"#d8576b\"],[0.6666666666666666,\"#ed7953\"],[0.7777777777777778,\"#fb9f3a\"],[0.8888888888888888,\"#fdca26\"],[1.0,\"#f0f921\"]]}],\"heatmapgl\":[{\"type\":\"heatmapgl\",\"colorbar\":{\"outlinewidth\":0,\"ticks\":\"\"},\"colorscale\":[[0.0,\"#0d0887\"],[0.1111111111111111,\"#46039f\"],[0.2222222222222222,\"#7201a8\"],[0.3333333333333333,\"#9c179e\"],[0.4444444444444444,\"#bd3786\"],[0.5555555555555556,\"#d8576b\"],[0.6666666666666666,\"#ed7953\"],[0.7777777777777778,\"#fb9f3a\"],[0.8888888888888888,\"#fdca26\"],[1.0,\"#f0f921\"]]}],\"contourcarpet\":[{\"type\":\"contourcarpet\",\"colorbar\":{\"outlinewidth\":0,\"ticks\":\"\"}}],\"contour\":[{\"type\":\"contour\",\"colorbar\":{\"outlinewidth\":0,\"ticks\":\"\"},\"colorscale\":[[0.0,\"#0d0887\"],[0.1111111111111111,\"#46039f\"],[0.2222222222222222,\"#7201a8\"],[0.3333333333333333,\"#9c179e\"],[0.4444444444444444,\"#bd3786\"],[0.5555555555555556,\"#d8576b\"],[0.6666666666666666,\"#ed7953\"],[0.7777777777777778,\"#fb9f3a\"],[0.8888888888888888,\"#fdca26\"],[1.0,\"#f0f921\"]]}],\"surface\":[{\"type\":\"surface\",\"colorbar\":{\"outlinewidth\":0,\"ticks\":\"\"},\"colorscale\":[[0.0,\"#0d0887\"],[0.1111111111111111,\"#46039f\"],[0.2222222222222222,\"#7201a8\"],[0.3333333333333333,\"#9c179e\"],[0.4444444444444444,\"#bd3786\"],[0.5555555555555556,\"#d8576b\"],[0.6666666666666666,\"#ed7953\"],[0.7777777777777778,\"#fb9f3a\"],[0.8888888888888888,\"#fdca26\"],[1.0,\"#f0f921\"]]}],\"mesh3d\":[{\"type\":\"mesh3d\",\"colorbar\":{\"outlinewidth\":0,\"ticks\":\"\"}}],\"scatter\":[{\"fillpattern\":{\"fillmode\":\"overlay\",\"size\":10,\"solidity\":0.2},\"type\":\"scatter\"}],\"parcoords\":[{\"type\":\"parcoords\",\"line\":{\"colorbar\":{\"outlinewidth\":0,\"ticks\":\"\"}}}],\"scatterpolargl\":[{\"type\":\"scatterpolargl\",\"marker\":{\"colorbar\":{\"outlinewidth\":0,\"ticks\":\"\"}}}],\"bar\":[{\"error_x\":{\"color\":\"#2a3f5f\"},\"error_y\":{\"color\":\"#2a3f5f\"},\"marker\":{\"line\":{\"color\":\"#E5ECF6\",\"width\":0.5},\"pattern\":{\"fillmode\":\"overlay\",\"size\":10,\"solidity\":0.2}},\"type\":\"bar\"}],\"scattergeo\":[{\"type\":\"scattergeo\",\"marker\":{\"colorbar\":{\"outlinewidth\":0,\"ticks\":\"\"}}}],\"scatterpolar\":[{\"type\":\"scatterpolar\",\"marker\":{\"colorbar\":{\"outlinewidth\":0,\"ticks\":\"\"}}}],\"histogram\":[{\"marker\":{\"pattern\":{\"fillmode\":\"overlay\",\"size\":10,\"solidity\":0.2}},\"type\":\"histogram\"}],\"scattergl\":[{\"type\":\"scattergl\",\"marker\":{\"colorbar\":{\"outlinewidth\":0,\"ticks\":\"\"}}}],\"scatter3d\":[{\"type\":\"scatter3d\",\"line\":{\"colorbar\":{\"outlinewidth\":0,\"ticks\":\"\"}},\"marker\":{\"colorbar\":{\"outlinewidth\":0,\"ticks\":\"\"}}}],\"scattermapbox\":[{\"type\":\"scattermapbox\",\"marker\":{\"colorbar\":{\"outlinewidth\":0,\"ticks\":\"\"}}}],\"scatterternary\":[{\"type\":\"scatterternary\",\"marker\":{\"colorbar\":{\"outlinewidth\":0,\"ticks\":\"\"}}}],\"scattercarpet\":[{\"type\":\"scattercarpet\",\"marker\":{\"colorbar\":{\"outlinewidth\":0,\"ticks\":\"\"}}}],\"carpet\":[{\"aaxis\":{\"endlinecolor\":\"#2a3f5f\",\"gridcolor\":\"white\",\"linecolor\":\"white\",\"minorgridcolor\":\"white\",\"startlinecolor\":\"#2a3f5f\"},\"baxis\":{\"endlinecolor\":\"#2a3f5f\",\"gridcolor\":\"white\",\"linecolor\":\"white\",\"minorgridcolor\":\"white\",\"startlinecolor\":\"#2a3f5f\"},\"type\":\"carpet\"}],\"table\":[{\"cells\":{\"fill\":{\"color\":\"#EBF0F8\"},\"line\":{\"color\":\"white\"}},\"header\":{\"fill\":{\"color\":\"#C8D4E3\"},\"line\":{\"color\":\"white\"}},\"type\":\"table\"}],\"barpolar\":[{\"marker\":{\"line\":{\"color\":\"#E5ECF6\",\"width\":0.5},\"pattern\":{\"fillmode\":\"overlay\",\"size\":10,\"solidity\":0.2}},\"type\":\"barpolar\"}],\"pie\":[{\"automargin\":true,\"type\":\"pie\"}]},\"layout\":{\"autotypenumbers\":\"strict\",\"colorway\":[\"#636efa\",\"#EF553B\",\"#00cc96\",\"#ab63fa\",\"#FFA15A\",\"#19d3f3\",\"#FF6692\",\"#B6E880\",\"#FF97FF\",\"#FECB52\"],\"font\":{\"color\":\"#2a3f5f\"},\"hovermode\":\"closest\",\"hoverlabel\":{\"align\":\"left\"},\"paper_bgcolor\":\"white\",\"plot_bgcolor\":\"#E5ECF6\",\"polar\":{\"bgcolor\":\"#E5ECF6\",\"angularaxis\":{\"gridcolor\":\"white\",\"linecolor\":\"white\",\"ticks\":\"\"},\"radialaxis\":{\"gridcolor\":\"white\",\"linecolor\":\"white\",\"ticks\":\"\"}},\"ternary\":{\"bgcolor\":\"#E5ECF6\",\"aaxis\":{\"gridcolor\":\"white\",\"linecolor\":\"white\",\"ticks\":\"\"},\"baxis\":{\"gridcolor\":\"white\",\"linecolor\":\"white\",\"ticks\":\"\"},\"caxis\":{\"gridcolor\":\"white\",\"linecolor\":\"white\",\"ticks\":\"\"}},\"coloraxis\":{\"colorbar\":{\"outlinewidth\":0,\"ticks\":\"\"}},\"colorscale\":{\"sequential\":[[0.0,\"#0d0887\"],[0.1111111111111111,\"#46039f\"],[0.2222222222222222,\"#7201a8\"],[0.3333333333333333,\"#9c179e\"],[0.4444444444444444,\"#bd3786\"],[0.5555555555555556,\"#d8576b\"],[0.6666666666666666,\"#ed7953\"],[0.7777777777777778,\"#fb9f3a\"],[0.8888888888888888,\"#fdca26\"],[1.0,\"#f0f921\"]],\"sequentialminus\":[[0.0,\"#0d0887\"],[0.1111111111111111,\"#46039f\"],[0.2222222222222222,\"#7201a8\"],[0.3333333333333333,\"#9c179e\"],[0.4444444444444444,\"#bd3786\"],[0.5555555555555556,\"#d8576b\"],[0.6666666666666666,\"#ed7953\"],[0.7777777777777778,\"#fb9f3a\"],[0.8888888888888888,\"#fdca26\"],[1.0,\"#f0f921\"]],\"diverging\":[[0,\"#8e0152\"],[0.1,\"#c51b7d\"],[0.2,\"#de77ae\"],[0.3,\"#f1b6da\"],[0.4,\"#fde0ef\"],[0.5,\"#f7f7f7\"],[0.6,\"#e6f5d0\"],[0.7,\"#b8e186\"],[0.8,\"#7fbc41\"],[0.9,\"#4d9221\"],[1,\"#276419\"]]},\"xaxis\":{\"gridcolor\":\"white\",\"linecolor\":\"white\",\"ticks\":\"\",\"title\":{\"standoff\":15},\"zerolinecolor\":\"white\",\"automargin\":true,\"zerolinewidth\":2},\"yaxis\":{\"gridcolor\":\"white\",\"linecolor\":\"white\",\"ticks\":\"\",\"title\":{\"standoff\":15},\"zerolinecolor\":\"white\",\"automargin\":true,\"zerolinewidth\":2},\"scene\":{\"xaxis\":{\"backgroundcolor\":\"#E5ECF6\",\"gridcolor\":\"white\",\"linecolor\":\"white\",\"showbackground\":true,\"ticks\":\"\",\"zerolinecolor\":\"white\",\"gridwidth\":2},\"yaxis\":{\"backgroundcolor\":\"#E5ECF6\",\"gridcolor\":\"white\",\"linecolor\":\"white\",\"showbackground\":true,\"ticks\":\"\",\"zerolinecolor\":\"white\",\"gridwidth\":2},\"zaxis\":{\"backgroundcolor\":\"#E5ECF6\",\"gridcolor\":\"white\",\"linecolor\":\"white\",\"showbackground\":true,\"ticks\":\"\",\"zerolinecolor\":\"white\",\"gridwidth\":2}},\"shapedefaults\":{\"line\":{\"color\":\"#2a3f5f\"}},\"annotationdefaults\":{\"arrowcolor\":\"#2a3f5f\",\"arrowhead\":0,\"arrowwidth\":1},\"geo\":{\"bgcolor\":\"white\",\"landcolor\":\"#E5ECF6\",\"subunitcolor\":\"white\",\"showland\":true,\"showlakes\":true,\"lakecolor\":\"white\"},\"title\":{\"x\":0.05},\"mapbox\":{\"style\":\"light\"}}},\"xaxis\":{\"anchor\":\"y\",\"domain\":[0.0,1.0],\"title\":{\"text\":\"Date\"}},\"yaxis\":{\"anchor\":\"x\",\"domain\":[0.0,1.0],\"title\":{\"text\":\"Artist\"}},\"legend\":{\"title\":{\"text\":\"Type\"},\"tracegroupgap\":0},\"title\":{\"text\":\"Timeline of Album Releases and Significant Events\"},\"height\":600,\"showlegend\":true},                        {\"responsive\": true}                    ).then(function(){\n",
              "                            \n",
              "var gd = document.getElementById('a8dbd89a-4c08-4f5f-888b-8260b160d8a5');\n",
              "var x = new MutationObserver(function (mutations, observer) {{\n",
              "        var display = window.getComputedStyle(gd).display;\n",
              "        if (!display || display === 'none') {{\n",
              "            console.log([gd, 'removed!']);\n",
              "            Plotly.purge(gd);\n",
              "            observer.disconnect();\n",
              "        }}\n",
              "}});\n",
              "\n",
              "// Listen for the removal of the full notebook cells\n",
              "var notebookContainer = gd.closest('#notebook-container');\n",
              "if (notebookContainer) {{\n",
              "    x.observe(notebookContainer, {childList: true});\n",
              "}}\n",
              "\n",
              "// Listen for the clearing of the current output cell\n",
              "var outputEl = gd.closest('.output');\n",
              "if (outputEl) {{\n",
              "    x.observe(outputEl, {childList: true});\n",
              "}}\n",
              "\n",
              "                        })                };                            </script>        </div>\n",
              "</body>\n",
              "</html>"
            ]
          },
          "metadata": {}
        }
      ],
      "source": [
        "import pandas as pd\n",
        "import plotly.express as px\n",
        "\n",
        "data = [\n",
        "    {\"artist\": \"Lady Gaga\", \"type\": \"Album\", \"name\": \"The Fame\", \"date\": \"2008-08-19\"},\n",
        "    {\"artist\": \"Lady Gaga\", \"type\": \"Album\", \"name\": \"Born This Way\", \"date\": \"2011-05-23\"},\n",
        "    {\"artist\": \"Lady Gaga\", \"type\": \"Album\", \"name\": \"ARTPOP\", \"date\": \"2013-11-06\"},\n",
        "    {\"artist\": \"Lady Gaga\", \"type\": \"Album\", \"name\": \"Joanne\", \"date\": \"2016-10-21\"},\n",
        "    {\"artist\": \"Lady Gaga\", \"type\": \"Album\", \"name\": \"Chromatica\", \"date\": \"2020-05-29\"},\n",
        "    {\"artist\": \"Lady Gaga\", \"type\": \"Album\", \"name\": \"Cheek to Cheek\", \"date\": \"2014-09-19\"},\n",
        "    {\"artist\": \"Lady Gaga\", \"type\": \"Album\", \"name\": \"Love for Sale\", \"date\": \"2021-10-01\"},\n",
        "    {\"artist\": \"Lady Gaga\", \"type\": \"Album\", \"name\": \"Harlequin\", \"date\": \"2024-09-27\"},\n",
        "\n",
        "\n",
        "    {\"artist\": \"Lady Gaga\", \"type\": \"Event\", \"name\": \"Wore the iconic 'meat dress' at MTV VMAs\", \"date\": \"2009-09-13\"},\n",
        "    {\"artist\": \"Lady Gaga\", \"type\": \"Event\", \"name\": \"Launched Born This Way Foundation\", \"date\": \"2011-11-13\"},\n",
        "    {\"artist\": \"Lady Gaga\", \"type\": \"Event\", \"name\": \"Cancelled Born This Way Ball tour due to hip surgery\", \"date\": \"2013-02-12\"},\n",
        "    {\"artist\": \"Lady Gaga\", \"type\": \"Event\", \"name\": \"Performed national anthem at Super Bowl 50\", \"date\": \"2016-02-07\"},\n",
        "    {\"artist\": \"Lady Gaga\", \"type\": \"Event\", \"name\": \"Revealed fibromyalgia diagnosis, raising awareness\", \"date\": \"2017-09-12\"},\n",
        "    {\"artist\": \"Lady Gaga\", \"type\": \"Event\", \"name\": \"Starred in 'A Star Is Born' with Bradley Cooper\", \"date\": \"2018-10-05\"},\n",
        "    {\"artist\": \"Lady Gaga\", \"type\": \"Event\", \"name\": \"Partnered with WHO for One World concert during COVID-19\", \"date\": \"2020-04-18\"},\n",
        "    {\"artist\": \"Lady Gaga\", \"type\": \"Event\", \"name\": \"Starred in 'House of Gucci'\", \"date\": \"2021-11-24\"},\n",
        "    {\"artist\": \"Lady Gaga\", \"type\": \"Event\", \"name\": \"Starred in 'Joker: Folie à Deux'\", \"date\": \"2024-10-01\"},\n",
        "    {\"artist\": \"Lady Gaga\", \"type\": \"Event\", \"name\": \"Tony Bennett Public Alzheimers Diagnosis\", \"date\": \"2021-02-01\"},\n",
        "\n",
        "\n",
        "    {\"artist\": \"Justin Bieber\", \"type\": \"Album\", \"name\": \"My World 2.0\", \"date\": \"2010-03-19\"},\n",
        "    {\"artist\": \"Justin Bieber\", \"type\": \"Album\", \"name\": \"Believe\", \"date\": \"2012-06-15\"},\n",
        "    {\"artist\": \"Justin Bieber\", \"type\": \"Album\", \"name\": \"Under the Mistletoe\", \"date\": \"2011-11-01\"},\n",
        "    {\"artist\": \"Justin Bieber\", \"type\": \"Album\", \"name\": \"Purpose\", \"date\": \"2015-11-13\"},\n",
        "    {\"artist\": \"Justin Bieber\", \"type\": \"Album\", \"name\": \"Changes\", \"date\": \"2020-02-14\"},\n",
        "    {\"artist\": \"Justin Bieber\", \"type\": \"Album\", \"name\": \"Justice\", \"date\": \"2021-03-19\"},\n",
        "\n",
        "    {\"artist\": \"Justin Bieber\", \"type\": \"Event\", \"name\": \"Relationship with Selena Gomez became public\", \"date\": \"2011-01-01\"},\n",
        "    {\"artist\": \"Justin Bieber\", \"type\": \"Event\", \"name\": \"Arrested for DUI in Miami\", \"date\": \"2014-01-23\"},\n",
        "    {\"artist\": \"Justin Bieber\", \"type\": \"Event\", \"name\": \"Canceled Purpose World Tour due to depression and anxiety\", \"date\": \"2017-07-24\"},\n",
        "    {\"artist\": \"Justin Bieber\", \"type\": \"Event\", \"name\": \"Social media hiatus after backlash over relationship with Sofia Richie\", \"date\": \"2016-08-15\"},\n",
        "    {\"artist\": \"Justin Bieber\", \"type\": \"Event\", \"name\": \"Married Hailey Baldwin in courthouse ceremony\", \"date\": \"2018-09-13\"},\n",
        "    {\"artist\": \"Justin Bieber\", \"type\": \"Event\", \"name\": \"Opened up about Lyme disease diagnosis\", \"date\": \"2020-01-08\"},\n",
        "    {\"artist\": \"Justin Bieber\", \"type\": \"Event\", \"name\": \"Took a break from touring due to Ramsay Hunt syndrome\", \"date\": \"2023-06-01\"},\n",
        "\n",
        "    {\"artist\": \"The Weeknd\", \"type\": \"Album\", \"name\": \"Trilogy\", \"date\": \"2012-11-13\"},\n",
        "    {\"artist\": \"The Weeknd\", \"type\": \"Album\", \"name\": \"Kiss Land\", \"date\": \"2013-09-10\"},\n",
        "    {\"artist\": \"The Weeknd\", \"type\": \"Album\", \"name\": \"Beauty Behind the Madness\", \"date\": \"2015-08-28\"},\n",
        "    {\"artist\": \"The Weeknd\", \"type\": \"Album\", \"name\": \"Starboy\", \"date\": \"2016-11-25\"},\n",
        "    {\"artist\": \"The Weeknd\", \"type\": \"Album\", \"name\": \"After Hours\", \"date\": \"2020-03-20\"},\n",
        "    {\"artist\": \"The Weeknd\", \"type\": \"Album\", \"name\": \"Dawn FM\", \"date\": \"2022-01-07\"},\n",
        "\n",
        "    {\"artist\": \"The Weeknd\", \"type\": \"Event\", \"name\": \"Dated Selena Gomez briefly\", \"date\": \"2017-01-01\"},\n",
        "    {\"artist\": \"The Weeknd\", \"type\": \"Event\", \"name\": \"Breakup with Selena Gomez\", \"date\": \"2017-10-01\"},\n",
        "    {\"artist\": \"The Weeknd\", \"type\": \"Event\", \"name\": \"Super Bowl LV halftime performance\", \"date\": \"2021-02-07\"},\n",
        "    {\"artist\": \"The Weeknd\", \"type\": \"Event\", \"name\": \"Canceled concert mid-performance due to vocal issues\", \"date\": \"2022-09-03\"},\n",
        "    {\"artist\": \"The Weeknd\", \"type\": \"Event\", \"name\": \"Transitioned to real name 'Abel Tesfaye'\", \"date\": \"2023-05-16\"},\n",
        "    {\"artist\": \"The Weeknd\", \"type\": \"Event\", \"name\": \"Hair transformation: Cut off dreadlocks\", \"date\": \"2016-09-20\"},\n",
        "    {\"artist\": \"The Weeknd\", \"type\": \"Event\", \"name\": \"Starred in HBO series 'The Idol'\", \"date\": \"2022-06-01\"},\n",
        "    {\"artist\": \"The Weeknd\", \"type\": \"Event\", \"name\": \"Recognized by Guinness as most popular artist globally\", \"date\": \"2023-03-27\"}\n",
        "]\n",
        "\n",
        "df = pd.DataFrame(data)\n",
        "df['date'] = pd.to_datetime(df['date'])\n",
        "\n",
        "fig = px.scatter(\n",
        "    df,\n",
        "    x=\"date\",\n",
        "    y=\"artist\",\n",
        "    color=\"type\",\n",
        "    size_max=15,\n",
        "    hover_name=\"name\",\n",
        "    title=\"Timeline of Album Releases and Significant Events\",\n",
        "    labels={\"date\": \"Date\", \"artist\": \"Artist\", \"type\": \"Type\"}\n",
        ")\n",
        "\n",
        "fig.update_traces(marker=dict(size=10, opacity=0.8))\n",
        "fig.update_layout(\n",
        "    height=600,\n",
        "    xaxis_title=\"Date\",\n",
        "    yaxis_title=\"Artist\",\n",
        "    legend_title=\"Type\",\n",
        "    showlegend=True\n",
        ")\n",
        "\n",
        "fig.show()\n"
      ]
    }
  ]
}